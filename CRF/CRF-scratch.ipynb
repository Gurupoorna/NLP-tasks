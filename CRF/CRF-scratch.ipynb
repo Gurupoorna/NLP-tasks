{
 "cells": [
  {
   "cell_type": "code",
   "execution_count": 2,
   "metadata": {},
   "outputs": [],
   "source": [
    "import nltk\n",
    "from nltk.corpus import brown\n",
    "from sklearn.metrics import classification_report, confusion_matrix\n",
    "from sklearn.preprocessing import LabelBinarizer\n",
    "from sklearn.model_selection import train_test_split\n",
    "import pycrfsuite\n",
    "from itertools import chain\n",
    "from collections import Counter"
   ]
  },
  {
   "cell_type": "markdown",
   "metadata": {},
   "source": [
    "# Defining features of CRF model\n",
    "\n",
    "Putting in features for each word, like ends with 'ly', 'ing', 'ed', etc. Or is it starting with capital letter and so on."
   ]
  },
  {
   "cell_type": "code",
   "execution_count": 4,
   "metadata": {},
   "outputs": [],
   "source": [
    "def word2features(sent, i):\n",
    "    word = sent[i][0]\n",
    "    features = [\n",
    "        'bias',\n",
    "        'word.lower=' + word.lower(),\n",
    "        'word[-3:]=' + word[-3:],\n",
    "        'word[-2:]=' + word[-2:],\n",
    "        'word.isupper=%s' % word.isupper(),\n",
    "        'word.istitle=%s' % word.istitle(),\n",
    "        'word.isdigit=%s' % word.isdigit(),\n",
    "    ]\n",
    "    if i > 0:\n",
    "        word1 = sent[i-1][0]\n",
    "        features.extend([\n",
    "            '-1:word.lower=' + word1.lower(),\n",
    "            '-1:word.istitle=%s' % word1.istitle(),\n",
    "            '-1:word.isupper=%s' % word1.isupper(),\n",
    "        ])\n",
    "    else:\n",
    "        features.append('BOS')\n",
    "        \n",
    "    if i < len(sent)-1:\n",
    "        word1 = sent[i+1][0]\n",
    "        features.extend([\n",
    "            '+1:word.lower=' + word1.lower(),\n",
    "            '+1:word.istitle=%s' % word1.istitle(),\n",
    "            '+1:word.isupper=%s' % word1.isupper(),\n",
    "        ])\n",
    "    else:\n",
    "        features.append('EOS')\n",
    "                \n",
    "    return features\n",
    "\n",
    "\n",
    "def sent2features(sent):\n",
    "    return [word2features(sent, i) for i in range(len(sent))]\n",
    "\n",
    "def sent2postags(sent):\n",
    "    return [postag for token, postag in sent]\n",
    "\n",
    "def sent2tokens(sent):\n",
    "    return [token for token, postag in sent]    "
   ]
  },
  {
   "cell_type": "markdown",
   "metadata": {},
   "source": [
    "# Load dataset\n",
    "\n",
    "Load sentences and split into train and test sentences (<b>60-40 split currently, needs changes!</b>)"
   ]
  },
  {
   "cell_type": "code",
   "execution_count": 5,
   "metadata": {},
   "outputs": [],
   "source": [
    "sent_dataset = brown.tagged_sents(tagset='universal')\n",
    "train_sents, test_sents = train_test_split(sent_dataset, test_size=0.4, shuffle=True, random_state=100)\n",
    "X_train = [sent2features(s) for s in train_sents]\n",
    "y_train = [sent2postags(s) for s in train_sents]\n",
    "\n",
    "X_test = [sent2features(s) for s in test_sents]\n",
    "y_test = [sent2postags(s) for s in test_sents]"
   ]
  },
  {
   "cell_type": "markdown",
   "metadata": {},
   "source": [
    "# Training\n",
    "\n",
    "Creating `trainer` object and loading it with the feature data constructed above."
   ]
  },
  {
   "cell_type": "code",
   "execution_count": 6,
   "metadata": {},
   "outputs": [],
   "source": [
    "trainer = pycrfsuite.Trainer(verbose=False)\n",
    "\n",
    "for xseq, yseq in zip(X_train, y_train):\n",
    "    trainer.append(xseq, yseq)\n",
    "\n",
    "trainer.set_params({\n",
    "    'c1': 1.0,   # coefficient for L1 penalty\n",
    "    'c2': 1e-3,  # coefficient for L2 penalty\n",
    "    'max_iterations': 50,  # stop earlier\n",
    "\n",
    "    # include transitions that are possible, but not observed\n",
    "    'feature.possible_transitions': True\n",
    "})"
   ]
  },
  {
   "cell_type": "markdown",
   "metadata": {},
   "source": [
    "Train the model and save into 'browncorpus.crfsuite' file."
   ]
  },
  {
   "cell_type": "code",
   "execution_count": 7,
   "metadata": {},
   "outputs": [
    {
     "data": {
      "text/plain": [
       "{'num': 50,\n",
       " 'scores': {},\n",
       " 'loss': 66580.174147,\n",
       " 'feature_norm': 241.602197,\n",
       " 'error_norm': 5043.937762,\n",
       " 'active_features': 20190,\n",
       " 'linesearch_trials': 1,\n",
       " 'linesearch_step': 1.0,\n",
       " 'time': 0.882}"
      ]
     },
     "execution_count": 7,
     "metadata": {},
     "output_type": "execute_result"
    }
   ],
   "source": [
    "trainer.train('browncorpus.crfsuite')\n",
    "trainer.logparser.last_iteration"
   ]
  },
  {
   "cell_type": "markdown",
   "metadata": {},
   "source": [
    "# Inference\n",
    "\n",
    "Example sentence tagging."
   ]
  },
  {
   "cell_type": "code",
   "execution_count": 8,
   "metadata": {},
   "outputs": [
    {
     "name": "stdout",
     "output_type": "stream",
     "text": [
      "The Manchester Guardian wondered how anyone in a railway carriage would have an opportunity to talk to Mr. Lewis , since it was well known that Mr. Lewis always did all of the talking .\n",
      "\n",
      "Predicted: DET NOUN NOUN VERB ADV NOUN ADP DET NOUN NOUN VERB VERB DET NOUN PRT VERB ADP NOUN NOUN . ADP PRON VERB ADV VERB ADP NOUN NOUN ADV VERB PRT ADP DET VERB .\n",
      "Correct:   DET NOUN NOUN VERB ADV NOUN ADP DET NOUN NOUN VERB VERB DET NOUN PRT VERB ADP NOUN NOUN . ADP PRON VERB ADV VERB ADP NOUN NOUN ADV VERB PRT ADP DET VERB .\n"
     ]
    }
   ],
   "source": [
    "tagger = pycrfsuite.Tagger()\n",
    "tagger.open('browncorpus.crfsuite')\n",
    "example_sent = test_sents[345]\n",
    "print(' '.join(sent2tokens(example_sent)), end='\\n\\n')\n",
    "\n",
    "print(\"Predicted:\", ' '.join(tagger.tag(sent2features(example_sent))))\n",
    "print(\"Correct:  \", ' '.join(sent2postags(example_sent)))"
   ]
  },
  {
   "cell_type": "markdown",
   "metadata": {},
   "source": [
    "# Evaluation\n",
    "\n",
    "Calculate precision, recall and f1-score tagwise."
   ]
  },
  {
   "cell_type": "code",
   "execution_count": 9,
   "metadata": {},
   "outputs": [],
   "source": [
    "def get_classification_report(y_true, y_pred):\n",
    "    lb = LabelBinarizer()\n",
    "    y_true_combined = lb.fit_transform(list(chain.from_iterable(y_true)))\n",
    "    y_pred_combined = lb.transform(list(chain.from_iterable(y_pred)))\n",
    "\n",
    "    tagset = lb.classes_\n",
    "    return classification_report(\n",
    "        y_true_combined,\n",
    "        y_pred_combined,\n",
    "        labels = range(len(tagset)),\n",
    "        target_names = tagset,\n",
    "    )\n"
   ]
  },
  {
   "cell_type": "markdown",
   "metadata": {},
   "source": [
    "## Test set evaluation"
   ]
  },
  {
   "cell_type": "code",
   "execution_count": 10,
   "metadata": {},
   "outputs": [],
   "source": [
    "y_pred = [tagger.tag(xseq) for xseq in X_test]"
   ]
  },
  {
   "cell_type": "code",
   "execution_count": 11,
   "metadata": {},
   "outputs": [
    {
     "name": "stdout",
     "output_type": "stream",
     "text": [
      "              precision    recall  f1-score   support\n",
      "\n",
      "           .       1.00      1.00      1.00     59144\n",
      "         ADJ       0.94      0.90      0.92     33448\n",
      "         ADP       0.98      0.98      0.98     58138\n",
      "         ADV       0.93      0.94      0.93     22620\n",
      "        CONJ       0.99      1.00      1.00     15153\n",
      "         DET       0.99      1.00      0.99     55068\n",
      "        NOUN       0.97      0.97      0.97    110169\n",
      "         NUM       0.97      0.97      0.97      5881\n",
      "        PRON       0.99      0.99      0.99     19772\n",
      "         PRT       0.93      0.94      0.94     11815\n",
      "        VERB       0.97      0.97      0.97     73106\n",
      "           X       0.79      0.35      0.48       605\n",
      "\n",
      "   micro avg       0.97      0.97      0.97    464919\n",
      "   macro avg       0.95      0.92      0.93    464919\n",
      "weighted avg       0.97      0.97      0.97    464919\n",
      " samples avg       0.97      0.97      0.97    464919\n",
      "\n"
     ]
    }
   ],
   "source": [
    "print(get_classification_report(y_test, y_pred))"
   ]
  },
  {
   "cell_type": "markdown",
   "metadata": {},
   "source": [
    "## Confusion matrix"
   ]
  },
  {
   "cell_type": "code",
   "execution_count": 56,
   "metadata": {},
   "outputs": [
    {
     "data": {
      "text/html": [
       "<div>\n",
       "<style scoped>\n",
       "    .dataframe tbody tr th:only-of-type {\n",
       "        vertical-align: middle;\n",
       "    }\n",
       "\n",
       "    .dataframe tbody tr th {\n",
       "        vertical-align: top;\n",
       "    }\n",
       "\n",
       "    .dataframe thead th {\n",
       "        text-align: right;\n",
       "    }\n",
       "</style>\n",
       "<table border=\"1\" class=\"dataframe\">\n",
       "  <thead>\n",
       "    <tr style=\"text-align: right;\">\n",
       "      <th></th>\n",
       "      <th>NOUN</th>\n",
       "      <th>ADJ</th>\n",
       "      <th>ADP</th>\n",
       "    </tr>\n",
       "  </thead>\n",
       "  <tbody>\n",
       "    <tr>\n",
       "      <th>NOUN</th>\n",
       "      <td>107356</td>\n",
       "      <td>1272</td>\n",
       "      <td>16</td>\n",
       "    </tr>\n",
       "    <tr>\n",
       "      <th>ADJ</th>\n",
       "      <td>1498</td>\n",
       "      <td>30210</td>\n",
       "      <td>24</td>\n",
       "    </tr>\n",
       "    <tr>\n",
       "      <th>ADP</th>\n",
       "      <td>55</td>\n",
       "      <td>20</td>\n",
       "      <td>56806</td>\n",
       "    </tr>\n",
       "  </tbody>\n",
       "</table>\n",
       "</div>"
      ],
      "text/plain": [
       "        NOUN    ADJ    ADP\n",
       "NOUN  107356   1272     16\n",
       "ADJ     1498  30210     24\n",
       "ADP       55     20  56806"
      ]
     },
     "execution_count": 56,
     "metadata": {},
     "output_type": "execute_result"
    }
   ],
   "source": [
    "y_true_combined = list(chain.from_iterable(y_test))\n",
    "y_pred_combined = list(chain.from_iterable(y_pred))\n",
    "\n",
    "tags_of_interest = ['NOUN','ADJ','ADP',]\n",
    "import pandas as pd\n",
    "df = pd.DataFrame(\n",
    "    confusion_matrix(y_true_combined, y_pred_combined, labels=tags_of_interest),\n",
    "    columns=tags_of_interest,\n",
    "    index=tags_of_interest\n",
    ")\n",
    "df"
   ]
  },
  {
   "cell_type": "markdown",
   "metadata": {},
   "source": [
    "# From class methods"
   ]
  },
  {
   "cell_type": "code",
   "execution_count": 1,
   "metadata": {},
   "outputs": [
    {
     "name": "stderr",
     "output_type": "stream",
     "text": [
      "\n",
      "2024-09-28 23:27:26,420 [INFO] CRFTagger - Fetching saved scratch.crfsuite\n"
     ]
    },
    {
     "data": {
      "text/plain": [
       "['NOUN',\n",
       " 'VERB',\n",
       " 'ADJ',\n",
       " 'NOUN',\n",
       " 'ADV',\n",
       " 'PRON',\n",
       " 'VERB',\n",
       " 'ADP',\n",
       " 'DET',\n",
       " 'NOUN',\n",
       " '.']"
      ]
     },
     "execution_count": 1,
     "metadata": {},
     "output_type": "execute_result"
    }
   ],
   "source": [
    "from CRFTagger import CRFTagger\n",
    "\n",
    "crf_tagger = CRFTagger('scratch', from_saved=True)\n",
    "crf_tagger.tag(\"Moses shed crocodile tears when he heard of the volcano.\")"
   ]
  },
  {
   "cell_type": "markdown",
   "metadata": {},
   "source": [
    "## 5-fold cross validation"
   ]
  },
  {
   "cell_type": "code",
   "execution_count": 2,
   "metadata": {},
   "outputs": [
    {
     "name": "stderr",
     "output_type": "stream",
     "text": [
      "\n",
      "2024-09-28 23:27:26,671 [INFO] numexpr.utils - Note: NumExpr detected 16 cores but \"NUMEXPR_MAX_THREADS\" not set, so enforcing safe limit of 8.\n",
      "\n",
      "2024-09-28 23:27:26,671 [INFO] numexpr.utils - NumExpr defaulting to 8 threads.\n",
      "\n",
      "2024-09-28 23:27:37,159 [INFO] CRFTagger - Test crf training\n",
      "\n",
      "2024-09-28 23:28:14,306 [INFO] CRFTagger - Returning results\n",
      "\n",
      "2024-09-28 23:28:23,316 [INFO] CRFTagger - Test crf training\n",
      "\n",
      "2024-09-28 23:28:56,742 [INFO] CRFTagger - Returning results\n",
      "\n",
      "2024-09-28 23:29:04,732 [INFO] CRFTagger - Test crf training\n",
      "\n",
      "2024-09-28 23:29:38,744 [INFO] CRFTagger - Returning results\n",
      "\n",
      "2024-09-28 23:29:46,753 [INFO] CRFTagger - Test crf training\n",
      "\n",
      "2024-09-28 23:30:19,858 [INFO] CRFTagger - Returning results\n",
      "\n",
      "2024-09-28 23:30:27,896 [INFO] CRFTagger - Test crf training\n",
      "\n",
      "2024-09-28 23:30:59,579 [INFO] CRFTagger - Returning results\n"
     ]
    },
    {
     "data": {
      "text/html": [
       "<div>\n",
       "<style scoped>\n",
       "    .dataframe tbody tr th:only-of-type {\n",
       "        vertical-align: middle;\n",
       "    }\n",
       "\n",
       "    .dataframe tbody tr th {\n",
       "        vertical-align: top;\n",
       "    }\n",
       "\n",
       "    .dataframe thead th {\n",
       "        text-align: right;\n",
       "    }\n",
       "</style>\n",
       "<table border=\"1\" class=\"dataframe\">\n",
       "  <thead>\n",
       "    <tr style=\"text-align: right;\">\n",
       "      <th></th>\n",
       "      <th>precision</th>\n",
       "      <th>recall</th>\n",
       "      <th>f1-score</th>\n",
       "    </tr>\n",
       "  </thead>\n",
       "  <tbody>\n",
       "    <tr>\n",
       "      <th>.</th>\n",
       "      <td>0.999722</td>\n",
       "      <td>0.999932</td>\n",
       "      <td>0.999827</td>\n",
       "    </tr>\n",
       "    <tr>\n",
       "      <th>ADJ</th>\n",
       "      <td>0.936941</td>\n",
       "      <td>0.912558</td>\n",
       "      <td>0.924579</td>\n",
       "    </tr>\n",
       "    <tr>\n",
       "      <th>ADP</th>\n",
       "      <td>0.977484</td>\n",
       "      <td>0.982902</td>\n",
       "      <td>0.980184</td>\n",
       "    </tr>\n",
       "    <tr>\n",
       "      <th>ADV</th>\n",
       "      <td>0.947225</td>\n",
       "      <td>0.929464</td>\n",
       "      <td>0.938243</td>\n",
       "    </tr>\n",
       "    <tr>\n",
       "      <th>CONJ</th>\n",
       "      <td>0.994014</td>\n",
       "      <td>0.997028</td>\n",
       "      <td>0.995518</td>\n",
       "    </tr>\n",
       "    <tr>\n",
       "      <th>DET</th>\n",
       "      <td>0.994103</td>\n",
       "      <td>0.994848</td>\n",
       "      <td>0.994475</td>\n",
       "    </tr>\n",
       "    <tr>\n",
       "      <th>NOUN</th>\n",
       "      <td>0.967736</td>\n",
       "      <td>0.976948</td>\n",
       "      <td>0.972319</td>\n",
       "    </tr>\n",
       "    <tr>\n",
       "      <th>NUM</th>\n",
       "      <td>0.972956</td>\n",
       "      <td>0.967415</td>\n",
       "      <td>0.970169</td>\n",
       "    </tr>\n",
       "    <tr>\n",
       "      <th>PRON</th>\n",
       "      <td>0.991678</td>\n",
       "      <td>0.987939</td>\n",
       "      <td>0.989804</td>\n",
       "    </tr>\n",
       "    <tr>\n",
       "      <th>PRT</th>\n",
       "      <td>0.942121</td>\n",
       "      <td>0.940127</td>\n",
       "      <td>0.941107</td>\n",
       "    </tr>\n",
       "    <tr>\n",
       "      <th>VERB</th>\n",
       "      <td>0.973569</td>\n",
       "      <td>0.976358</td>\n",
       "      <td>0.974961</td>\n",
       "    </tr>\n",
       "    <tr>\n",
       "      <th>X</th>\n",
       "      <td>0.772235</td>\n",
       "      <td>0.420400</td>\n",
       "      <td>0.541643</td>\n",
       "    </tr>\n",
       "    <tr>\n",
       "      <th>micro avg</th>\n",
       "      <td>0.975077</td>\n",
       "      <td>0.975077</td>\n",
       "      <td>0.975077</td>\n",
       "    </tr>\n",
       "    <tr>\n",
       "      <th>macro avg</th>\n",
       "      <td>0.955815</td>\n",
       "      <td>0.923827</td>\n",
       "      <td>0.935236</td>\n",
       "    </tr>\n",
       "    <tr>\n",
       "      <th>weighted avg</th>\n",
       "      <td>0.974892</td>\n",
       "      <td>0.975077</td>\n",
       "      <td>0.974891</td>\n",
       "    </tr>\n",
       "    <tr>\n",
       "      <th>samples avg</th>\n",
       "      <td>0.975077</td>\n",
       "      <td>0.975077</td>\n",
       "      <td>0.975077</td>\n",
       "    </tr>\n",
       "  </tbody>\n",
       "</table>\n",
       "</div>"
      ],
      "text/plain": [
       "              precision    recall  f1-score\n",
       ".              0.999722  0.999932  0.999827\n",
       "ADJ            0.936941  0.912558  0.924579\n",
       "ADP            0.977484  0.982902  0.980184\n",
       "ADV            0.947225  0.929464  0.938243\n",
       "CONJ           0.994014  0.997028  0.995518\n",
       "DET            0.994103  0.994848  0.994475\n",
       "NOUN           0.967736  0.976948  0.972319\n",
       "NUM            0.972956  0.967415  0.970169\n",
       "PRON           0.991678  0.987939  0.989804\n",
       "PRT            0.942121  0.940127  0.941107\n",
       "VERB           0.973569  0.976358  0.974961\n",
       "X              0.772235  0.420400  0.541643\n",
       "micro avg      0.975077  0.975077  0.975077\n",
       "macro avg      0.955815  0.923827  0.935236\n",
       "weighted avg   0.974892  0.975077  0.974891\n",
       "samples avg    0.975077  0.975077  0.975077"
      ]
     },
     "execution_count": 2,
     "metadata": {},
     "output_type": "execute_result"
    }
   ],
   "source": [
    "from sklearn.model_selection import KFold\n",
    "import numpy as np\n",
    "import pandas as pd\n",
    "all_sents = np.array(crf_tagger.sent_dataset, dtype=object)\n",
    "K=5\n",
    "k_fold = KFold(K, shuffle=True, random_state=231)\n",
    "df_l =[]\n",
    "for train_sents_idx, test_sents_idx in k_fold.split(all_sents):\n",
    "    df_l.append(pd.DataFrame(\n",
    "    CRFTagger.test_tagger('crf_k', all_sents[train_sents_idx], all_sents[test_sents_idx]),\n",
    "    ).T)\n",
    "result_df = pd.DataFrame(data=np.mean([tt.to_numpy()[:,:-1] for tt in df_l], axis=0), columns=df_l[0].columns[:-1], index=df_l[0].index)\n",
    "result_df"
   ]
  },
  {
   "cell_type": "code",
   "execution_count": 3,
   "metadata": {},
   "outputs": [
    {
     "name": "stdout",
     "output_type": "stream",
     "text": [
      "\n",
      "Caching the list of root modules, please wait!\n",
      "(This will only be done once - type '%rehashx' to reset cache!)\n",
      "\n"
     ]
    },
    {
     "data": {
      "image/png": "[encoded data removed]",
      "text/plain": [
       "<Figure size 1000x800 with 2 Axes>"
      ]
     },
     "metadata": {},
     "output_type": "display_data"
    }
   ],
   "source": [
    "from sklearn.metrics import confusion_matrix\n",
    "from itertools import chain\n",
    "X_all = [[word for word, _ in sent] for sent in all_sents]\n",
    "y_true = [[tag for _, tag in sent] for sent in all_sents]\n",
    "y_pred = [crf_tagger.tag(sent) for sent in X_all]\n",
    "pos_tags = ['.','ADJ','ADP','ADV','CONJ','DET','NOUN','NUM','PRON','PRT','VERB','X']\n",
    "y_true_combined = list(chain.from_iterable(y_true))\n",
    "y_pred_combined = list(chain.from_iterable(y_pred))\n",
    "\n",
    "cmatrix = confusion_matrix(y_true_combined, y_pred_combined, labels=pos_tags)\n",
    "\n",
    "import matplotlib.pyplot as plt\n",
    "import seaborn as sns\n",
    "plt.figure(figsize=(10, 8))\n",
    "sns.heatmap(cmatrix, annot=True, fmt='d', cmap='Blues', xticklabels=pos_tags, yticklabels=pos_tags)\n",
    "\n",
    "plt.xlabel('Predicted POS Tags')\n",
    "plt.ylabel('True POS Tags')\n",
    "plt.title('Confusion Matrix of POS Tagging')\n",
    "plt.show()\n"
   ]
  },
  {
   "cell_type": "code",
   "execution_count": 4,
   "metadata": {},
   "outputs": [],
   "source": [
    "import pickle\n",
    "with open('crf_results.pkl', 'wb') as f:\n",
    "    pickle.dump(result_df,f)"
   ]
  }
 ],
 "metadata": {
  "kernelspec": {
   "display_name": "kaarya",
   "language": "python",
   "name": "python3"
  },
  "language_info": {
   "codemirror_mode": {
    "name": "ipython",
    "version": 3
   },
   "file_extension": ".py",
   "mimetype": "text/x-python",
   "name": "python",
   "nbconvert_exporter": "python",
   "pygments_lexer": "ipython3",
   "version": "3.11.9"
  }
 },
 "nbformat": 4,
 "nbformat_minor": 2
}
